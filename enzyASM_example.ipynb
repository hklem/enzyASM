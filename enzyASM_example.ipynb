{
 "cells": [
  {
   "cell_type": "code",
   "execution_count": 1,
   "id": "a994158a",
   "metadata": {},
   "outputs": [],
   "source": [
    "import enzyASM\n",
    "import numpy as np\n",
    "import pandas as pd\n",
    "from rdkit import Chem\n",
    "from aqme.qprep import qprep"
   ]
  },
  {
   "cell_type": "markdown",
   "id": "b36c5b61",
   "metadata": {},
   "source": [
    "### 1. Load PDB structure"
   ]
  },
  {
   "cell_type": "code",
   "execution_count": 2,
   "id": "82cd345b",
   "metadata": {},
   "outputs": [
    {
     "name": "stdout",
     "output_type": "stream",
     "text": [
      "http://www.pdb.org/pdb/download/downloadFile.do?fileFormat=pdb&compression=NO&structureId=3zr4\n",
      "Downloading 3zr4 as 3zr4.pdb.\n"
     ]
    }
   ],
   "source": [
    "pdb_code = '3zr4'\n",
    "data = enzyASM.download(pdb_code)"
   ]
  },
  {
   "cell_type": "code",
   "execution_count": 3,
   "id": "c8f48cfa",
   "metadata": {},
   "outputs": [],
   "source": [
    "pdb_file = '3zr4.pdb'"
   ]
  },
  {
   "cell_type": "markdown",
   "id": "8b2190f3",
   "metadata": {},
   "source": [
    "### 2. Let's learn about this pdb file"
   ]
  },
  {
   "cell_type": "code",
   "execution_count": 4,
   "id": "69710a39",
   "metadata": {},
   "outputs": [
    {
     "name": "stdout",
     "output_type": "stream",
     "text": [
      "Information on PDB file: 3zr4.pdb\n",
      "Hydrogens are not present. Structure will be automatically protonated during truncation step.\n",
      "----------------------------------------------\n",
      "Total number of atoms: 10728\n",
      "Water molecules: 204\n",
      "Ions: 0\n",
      "Standard amino acid residues: 1333\n",
      "----------------------------------------------\n",
      "The following 9 ligands were detected:\n",
      "1:\n",
      "Chain: A  Name: GOL  ID: 1202\n",
      ".........\n",
      "2:\n",
      "Chain: B  Name: GLN  ID: 1205\n",
      ".........\n",
      "3:\n",
      "Chain: B  Name: GOL  ID: 1201\n",
      ".........\n",
      "4:\n",
      "Chain: B  Name: GOL  ID: 1202\n",
      ".........\n",
      "5:\n",
      "Chain: C  Name: GOL  ID: 1254\n",
      ".........\n",
      "6:\n",
      "Chain: D  Name: GLN  ID: 1205\n",
      ".........\n",
      "7:\n",
      "Chain: D  Name: GOL  ID: 1201\n",
      ".........\n",
      "8:\n",
      "Chain: E  Name: GOL  ID: 1254\n",
      ".........\n",
      "9:\n",
      "Chain: E  Name: GOL  ID: 1255\n",
      ".........\n",
      "----------------------------------------------\n"
     ]
    }
   ],
   "source": [
    "enzyASM.PDB_file_info(pdb_file)"
   ]
  },
  {
   "cell_type": "markdown",
   "id": "8f43f255",
   "metadata": {},
   "source": [
    "### 3. Define a catalytic center for the active site model\n",
    "- Here we choose the L-Gln ligand from chain B.\n",
    "- It is actually best to do this first if we are going to protonate with obabel because obabel will think the GLN ligand is part of the protein and changes its information making it more difficult to define as the catalytic center. \n",
    "- Alternatively, the structure could be protonated another way, or the ligand information can be manually changed in the PDB. "
   ]
  },
  {
   "cell_type": "code",
   "execution_count": 5,
   "id": "a3307a14",
   "metadata": {},
   "outputs": [
    {
     "name": "stdout",
     "output_type": "stream",
     "text": [
      "Catalytic center contains 10 atoms.\n",
      "Structure saved as catalytic_center.pdb\n"
     ]
    }
   ],
   "source": [
    "substrate_mol, protein_mol = enzyASM.catalytic_center(pdb_file,catalytic_center=[1205,'GLN','B'],definition=['res_number','res_name','chain'])"
   ]
  },
  {
   "cell_type": "code",
   "execution_count": 6,
   "id": "176229d5",
   "metadata": {},
   "outputs": [
    {
     "data": {
      "image/svg+xml": [
       "<svg xmlns=\"http://www.w3.org/2000/svg\" xmlns:rdkit=\"http://www.rdkit.org/xml\" xmlns:xlink=\"http://www.w3.org/1999/xlink\" version=\"1.1\" baseProfile=\"full\" xml:space=\"preserve\" width=\"400px\" height=\"400px\" viewBox=\"0 0 400 400\">\n",
       "<!-- END OF HEADER -->\n",
       "<rect style=\"opacity:1.0;fill:#FFFFFF;stroke:none\" width=\"400\" height=\"400\" x=\"0\" y=\"0\"> </rect>\n",
       "<path class=\"bond-0 atom-1 atom-0\" d=\"M 257.854,173.363 L 255.498,173.361\" style=\"fill:none;fill-rule:evenodd;stroke:#000000;stroke-width:1.0px;stroke-linecap:butt;stroke-linejoin:miter;stroke-opacity:1\"/>\n",
       "<path class=\"bond-0 atom-1 atom-0\" d=\"M 259.039,163.383 L 254.328,163.38\" style=\"fill:none;fill-rule:evenodd;stroke:#000000;stroke-width:1.0px;stroke-linecap:butt;stroke-linejoin:miter;stroke-opacity:1\"/>\n",
       "<path class=\"bond-0 atom-1 atom-0\" d=\"M 260.225,153.404 L 253.158,153.398\" style=\"fill:none;fill-rule:evenodd;stroke:#0000FF;stroke-width:1.0px;stroke-linecap:butt;stroke-linejoin:miter;stroke-opacity:1\"/>\n",
       "<path class=\"bond-0 atom-1 atom-0\" d=\"M 261.411,143.425 L 251.988,143.417\" style=\"fill:none;fill-rule:evenodd;stroke:#0000FF;stroke-width:1.0px;stroke-linecap:butt;stroke-linejoin:miter;stroke-opacity:1\"/>\n",
       "<path class=\"bond-0 atom-1 atom-0\" d=\"M 262.597,133.445 L 250.818,133.436\" style=\"fill:none;fill-rule:evenodd;stroke:#0000FF;stroke-width:1.0px;stroke-linecap:butt;stroke-linejoin:miter;stroke-opacity:1\"/>\n",
       "<path class=\"bond-1 atom-2 atom-1\" d=\"M 313.309,216.113 L 256.668,183.342\" style=\"fill:none;fill-rule:evenodd;stroke:#000000;stroke-width:2.0px;stroke-linecap:butt;stroke-linejoin:miter;stroke-opacity:1\"/>\n",
       "<path class=\"bond-3 atom-4 atom-1\" d=\"M 199.974,216.021 L 256.668,183.342\" style=\"fill:none;fill-rule:evenodd;stroke:#000000;stroke-width:2.0px;stroke-linecap:butt;stroke-linejoin:miter;stroke-opacity:1\"/>\n",
       "<path class=\"bond-2 atom-3 atom-2\" d=\"M 355.607,191.732 L 334.458,203.922\" style=\"fill:none;fill-rule:evenodd;stroke:#FF0000;stroke-width:2.0px;stroke-linecap:butt;stroke-linejoin:miter;stroke-opacity:1\"/>\n",
       "<path class=\"bond-2 atom-3 atom-2\" d=\"M 334.458,203.922 L 313.309,216.113\" style=\"fill:none;fill-rule:evenodd;stroke:#000000;stroke-width:2.0px;stroke-linecap:butt;stroke-linejoin:miter;stroke-opacity:1\"/>\n",
       "<path class=\"bond-8 atom-9 atom-2\" d=\"M 313.269,265.857 L 313.289,240.985\" style=\"fill:none;fill-rule:evenodd;stroke:#FF0000;stroke-width:2.0px;stroke-linecap:butt;stroke-linejoin:miter;stroke-opacity:1\"/>\n",
       "<path class=\"bond-8 atom-9 atom-2\" d=\"M 313.289,240.985 L 313.309,216.113\" style=\"fill:none;fill-rule:evenodd;stroke:#000000;stroke-width:2.0px;stroke-linecap:butt;stroke-linejoin:miter;stroke-opacity:1\"/>\n",
       "<path class=\"bond-4 atom-5 atom-4\" d=\"M 143.332,183.251 L 199.974,216.021\" style=\"fill:none;fill-rule:evenodd;stroke:#000000;stroke-width:2.0px;stroke-linecap:butt;stroke-linejoin:miter;stroke-opacity:1\"/>\n",
       "<path class=\"bond-5 atom-6 atom-5\" d=\"M 86.6385,215.929 L 143.332,183.251\" style=\"fill:none;fill-rule:evenodd;stroke:#000000;stroke-width:2.0px;stroke-linecap:butt;stroke-linejoin:miter;stroke-opacity:1\"/>\n",
       "<path class=\"bond-6 atom-7 atom-6\" d=\"M 44.393,191.488 L 65.5157,203.709\" style=\"fill:none;fill-rule:evenodd;stroke:#FF0000;stroke-width:2.0px;stroke-linecap:butt;stroke-linejoin:miter;stroke-opacity:1\"/>\n",
       "<path class=\"bond-6 atom-7 atom-6\" d=\"M 65.5157,203.709 L 86.6385,215.929\" style=\"fill:none;fill-rule:evenodd;stroke:#000000;stroke-width:2.0px;stroke-linecap:butt;stroke-linejoin:miter;stroke-opacity:1\"/>\n",
       "<path class=\"bond-7 atom-8 atom-6\" d=\"M 86.5985,265.831 L 86.6185,240.88\" style=\"fill:none;fill-rule:evenodd;stroke:#0000FF;stroke-width:2.0px;stroke-linecap:butt;stroke-linejoin:miter;stroke-opacity:1\"/>\n",
       "<path class=\"bond-7 atom-8 atom-6\" d=\"M 86.6185,240.88 L 86.6385,215.929\" style=\"fill:none;fill-rule:evenodd;stroke:#000000;stroke-width:2.0px;stroke-linecap:butt;stroke-linejoin:miter;stroke-opacity:1\"/>\n",
       "<path class=\"atom-0\" d=\"M 250.576 104.007 L 259.684 118.731 Q 260.587 120.183, 262.04 122.814 Q 263.493 125.444, 263.571 125.601 L 263.571 104.007 L 267.262 104.007 L 267.262 131.805 L 263.453 131.805 L 253.677 115.707 Q 252.539 113.823, 251.322 111.663 Q 250.144 109.504, 249.79 108.837 L 249.79 131.805 L 246.178 131.805 L 246.178 104.007 L 250.576 104.007 \" fill=\"#0000FF\"/>\n",
       "<path class=\"atom-3\" d=\"M 357.243 183.512 Q 357.243 176.838, 360.541 173.108 Q 363.839 169.378, 370.003 169.378 Q 376.167 169.378, 379.465 173.108 Q 382.763 176.838, 382.763 183.512 Q 382.763 190.265, 379.426 194.113 Q 376.089 197.921, 370.003 197.921 Q 363.878 197.921, 360.541 194.113 Q 357.243 190.305, 357.243 183.512 M 370.003 194.78 Q 374.243 194.78, 376.52 191.954 Q 378.837 189.087, 378.837 183.512 Q 378.837 178.055, 376.52 175.307 Q 374.243 172.519, 370.003 172.519 Q 365.763 172.519, 363.446 175.267 Q 361.169 178.016, 361.169 183.512 Q 361.169 189.127, 363.446 191.954 Q 365.763 194.78, 370.003 194.78 \" fill=\"#FF0000\"/>\n",
       "<path class=\"atom-7\" d=\"M 17.2369 183.237 Q 17.2369 176.563, 20.5349 172.833 Q 23.8329 169.103, 29.997 169.103 Q 36.161 169.103, 39.459 172.833 Q 42.757 176.563, 42.757 183.237 Q 42.757 189.99, 39.4198 193.838 Q 36.0825 197.646, 29.997 197.646 Q 23.8721 197.646, 20.5349 193.838 Q 17.2369 190.03, 17.2369 183.237 M 29.997 194.506 Q 34.2372 194.506, 36.5144 191.679 Q 38.8308 188.813, 38.8308 183.237 Q 38.8308 177.78, 36.5144 175.032 Q 34.2372 172.244, 29.997 172.244 Q 25.7567 172.244, 23.4403 174.992 Q 21.1631 177.741, 21.1631 183.237 Q 21.1631 188.852, 23.4403 191.679 Q 25.7567 194.506, 29.997 194.506 \" fill=\"#FF0000\"/>\n",
       "<path class=\"atom-8\" d=\"M 80.4417 267.467 L 89.5504 282.19 Q 90.4534 283.643, 91.9061 286.273 Q 93.3588 288.904, 93.4373 289.061 L 93.4373 267.467 L 97.1279 267.467 L 97.1279 295.264 L 93.3195 295.264 L 83.5433 279.167 Q 82.4047 277.282, 81.1876 275.123 Q 80.0098 272.963, 79.6564 272.296 L 79.6564 295.264 L 76.0444 295.264 L 76.0444 267.467 L 80.4417 267.467 \" fill=\"#0000FF\"/>\n",
       "<path class=\"atom-9\" d=\"M 300.497 281.627 Q 300.497 274.953, 303.795 271.223 Q 307.093 267.493, 313.257 267.493 Q 319.421 267.493, 322.719 271.223 Q 326.017 274.953, 326.017 281.627 Q 326.017 288.38, 322.68 292.228 Q 319.342 296.036, 313.257 296.036 Q 307.132 296.036, 303.795 292.228 Q 300.497 288.419, 300.497 281.627 M 313.257 292.895 Q 317.497 292.895, 319.774 290.068 Q 322.091 287.202, 322.091 281.627 Q 322.091 276.17, 319.774 273.422 Q 317.497 270.634, 313.257 270.634 Q 309.017 270.634, 306.7 273.382 Q 304.423 276.131, 304.423 281.627 Q 304.423 287.242, 306.7 290.068 Q 309.017 292.895, 313.257 292.895 \" fill=\"#FF0000\"/>\n",
       "</svg>"
      ],
      "text/plain": [
       "<IPython.core.display.SVG object>"
      ]
     },
     "execution_count": 6,
     "metadata": {},
     "output_type": "execute_result"
    }
   ],
   "source": [
    "enzyASM.show_mol(substrate_mol)"
   ]
  },
  {
   "cell_type": "markdown",
   "id": "f17bacb5",
   "metadata": {},
   "source": [
    "### 4. Define the active site by a cutoff distance from the catalytic center\n",
    "- This is done in two stages: Stage 1 the distance is measured from the centroid of the catalytic center. Whenever an atom of a residue is within the cutoff, the entire residue is added to the centroid_shell_mol object. Stage 2 the same process happens, however a significant number of residues have already been removed from the first stage, so now the distance between all remaining atoms and the distance between all catalytic center atoms is measured to narrow the selection down.\n",
    "- \"residues_centroid\" and \"residues_asm\" contain information on what atom from that residue was within the cutoff distance. This can be useful when trying to decide if the side chain or main chain should be kept or truncated (see below). "
   ]
  },
  {
   "cell_type": "code",
   "execution_count": 7,
   "id": "a486f996",
   "metadata": {},
   "outputs": [
    {
     "name": "stdout",
     "output_type": "stream",
     "text": [
      "Initial pass results in 153 atoms.\n",
      "Final pass results in 135 atoms.\n",
      "Structure saved as active_site_radius_5.pdb\n",
      "CPU times: user 15 s, sys: 168 ms, total: 15.2 s\n",
      "Wall time: 15 s\n"
     ]
    }
   ],
   "source": [
    "%%time\n",
    "\n",
    "distance_cutoff = 5\n",
    "\n",
    "centroid_shell_mol, residues_centroid = enzyASM.residue_shell(substrate_mol,distance_cutoff,pdb_file,centroid=True)\n",
    "active_site_mol, residues_asm = enzyASM.residue_shell(substrate_mol,distance_cutoff,base_mol=centroid_shell_mol,centroid=False)"
   ]
  },
  {
   "cell_type": "code",
   "execution_count": 8,
   "id": "f4f69f46",
   "metadata": {
    "scrolled": true
   },
   "outputs": [
    {
     "data": {
      "text/html": [
       "<div>\n",
       "<style scoped>\n",
       "    .dataframe tbody tr th:only-of-type {\n",
       "        vertical-align: middle;\n",
       "    }\n",
       "\n",
       "    .dataframe tbody tr th {\n",
       "        vertical-align: top;\n",
       "    }\n",
       "\n",
       "    .dataframe thead th {\n",
       "        text-align: right;\n",
       "    }\n",
       "</style>\n",
       "<table border=\"1\" class=\"dataframe\">\n",
       "  <thead>\n",
       "    <tr style=\"text-align: right;\">\n",
       "      <th></th>\n",
       "      <th>Residue Name</th>\n",
       "      <th>Residue Number</th>\n",
       "      <th>Residue Atom</th>\n",
       "      <th>Atom Type</th>\n",
       "      <th>Residue Chain</th>\n",
       "    </tr>\n",
       "  </thead>\n",
       "  <tbody>\n",
       "    <tr>\n",
       "      <th>0</th>\n",
       "      <td>GLN</td>\n",
       "      <td>123</td>\n",
       "      <td>CD</td>\n",
       "      <td>Sidechain</td>\n",
       "      <td>A</td>\n",
       "    </tr>\n",
       "    <tr>\n",
       "      <th>1</th>\n",
       "      <td>GLN</td>\n",
       "      <td>123</td>\n",
       "      <td>OE1</td>\n",
       "      <td>Sidechain</td>\n",
       "      <td>A</td>\n",
       "    </tr>\n",
       "    <tr>\n",
       "      <th>2</th>\n",
       "      <td>GLY</td>\n",
       "      <td>50</td>\n",
       "      <td>O</td>\n",
       "      <td>Backbone</td>\n",
       "      <td>B</td>\n",
       "    </tr>\n",
       "    <tr>\n",
       "      <th>3</th>\n",
       "      <td>VAL</td>\n",
       "      <td>51</td>\n",
       "      <td>N</td>\n",
       "      <td>Backbone</td>\n",
       "      <td>B</td>\n",
       "    </tr>\n",
       "    <tr>\n",
       "      <th>4</th>\n",
       "      <td>VAL</td>\n",
       "      <td>51</td>\n",
       "      <td>CA</td>\n",
       "      <td>Backbone</td>\n",
       "      <td>B</td>\n",
       "    </tr>\n",
       "    <tr>\n",
       "      <th>...</th>\n",
       "      <td>...</td>\n",
       "      <td>...</td>\n",
       "      <td>...</td>\n",
       "      <td>...</td>\n",
       "      <td>...</td>\n",
       "    </tr>\n",
       "    <tr>\n",
       "      <th>69</th>\n",
       "      <td>GLN</td>\n",
       "      <td>1205</td>\n",
       "      <td>NE2</td>\n",
       "      <td>Sidechain</td>\n",
       "      <td>B</td>\n",
       "    </tr>\n",
       "    <tr>\n",
       "      <th>70</th>\n",
       "      <td>GLN</td>\n",
       "      <td>1205</td>\n",
       "      <td>OXT</td>\n",
       "      <td>Sidechain</td>\n",
       "      <td>B</td>\n",
       "    </tr>\n",
       "    <tr>\n",
       "      <th>71</th>\n",
       "      <td>HOH</td>\n",
       "      <td>2024</td>\n",
       "      <td>O</td>\n",
       "      <td>Backbone</td>\n",
       "      <td>B</td>\n",
       "    </tr>\n",
       "    <tr>\n",
       "      <th>72</th>\n",
       "      <td>HOH</td>\n",
       "      <td>2030</td>\n",
       "      <td>O</td>\n",
       "      <td>Backbone</td>\n",
       "      <td>B</td>\n",
       "    </tr>\n",
       "    <tr>\n",
       "      <th>73</th>\n",
       "      <td>HOH</td>\n",
       "      <td>2036</td>\n",
       "      <td>O</td>\n",
       "      <td>Backbone</td>\n",
       "      <td>B</td>\n",
       "    </tr>\n",
       "  </tbody>\n",
       "</table>\n",
       "<p>74 rows × 5 columns</p>\n",
       "</div>"
      ],
      "text/plain": [
       "   Residue Name  Residue Number Residue Atom  Atom Type Residue Chain\n",
       "0           GLN             123          CD   Sidechain             A\n",
       "1           GLN             123          OE1  Sidechain             A\n",
       "2           GLY              50          O     Backbone             B\n",
       "3           VAL              51          N     Backbone             B\n",
       "4           VAL              51          CA    Backbone             B\n",
       "..          ...             ...          ...        ...           ...\n",
       "69          GLN            1205          NE2  Sidechain             B\n",
       "70          GLN            1205          OXT  Sidechain             B\n",
       "71          HOH            2024          O     Backbone             B\n",
       "72          HOH            2030          O     Backbone             B\n",
       "73          HOH            2036          O     Backbone             B\n",
       "\n",
       "[74 rows x 5 columns]"
      ]
     },
     "execution_count": 8,
     "metadata": {},
     "output_type": "execute_result"
    }
   ],
   "source": [
    "pd.DataFrame(residues_asm)"
   ]
  },
  {
   "cell_type": "markdown",
   "id": "6a604b35",
   "metadata": {},
   "source": [
    "### Step 5. (optional) Remove ancillary residues\n",
    "- If the sidechain is pointing away from the active site, especially if it is big and bulky, it might not be important to keep in the model, in which case it would be best to remove in order to keep your total number of atoms low. \n",
    "- This should be done with caution, however, since the residue could be involved in other interactions that influence direct interactions along the reaction coordinate. "
   ]
  },
  {
   "cell_type": "code",
   "execution_count": 9,
   "id": "f815aeac",
   "metadata": {},
   "outputs": [
    {
     "name": "stdout",
     "output_type": "stream",
     "text": [
      "[53, 54, 176]\n"
     ]
    }
   ],
   "source": [
    "remove_sidechain = []\n",
    "\n",
    "for resnum in np.unique(residues_asm['Residue Number']):\n",
    "    sc = 0\n",
    "    bb = 0\n",
    "    atoms = np.where(np.array(residues_asm['Residue Number'])==resnum)\n",
    "    for atom in atoms[0]:\n",
    "        if residues_asm['Residue Name'][atom] == 'GLY':\n",
    "            sc = 2\n",
    "            continue\n",
    "        if residues_asm['Residue Name'][atom] == 'HOH':\n",
    "            sc = 2\n",
    "            continue\n",
    "        if residues_asm['Atom Type'][atom] == 'Sidechain':\n",
    "            sc += 1\n",
    "    if sc < 2:\n",
    "        remove_sidechain.append(resnum)\n",
    "print(remove_sidechain)"
   ]
  },
  {
   "cell_type": "markdown",
   "id": "6c531ccb",
   "metadata": {},
   "source": [
    "### Step 6. Truncate the model\n",
    "- More improvements, such as additional truncation schemes, can be expected in future versions\n",
    "- Currently, the code defaults to a \"CA_terminal\" scheme, in which only terminal or lone residues are truncated at the C-alpha. For example, if the following residues are included in the cutoff distance, 40–41–42–43 50, the the N-terminus of residue 40 will be removed, leaving the C-alpha, and the C-terminus of residue 43 will be removed, leaving the C-alpha, and the N- and C-termini of residue 50 will be removed, leaving onlt the C-alpha.\n",
    "- One \"feature\" of the current truncation function is that the atoms bonded to CA that are removed get replaced with Hydrogens, but the bond length does not change. This shouldn't be too much of an issue as the bond length will quickly adjust during any energy minimization step."
   ]
  },
  {
   "cell_type": "code",
   "execution_count": 10,
   "id": "6682fba1",
   "metadata": {},
   "outputs": [
    {
     "name": "stdout",
     "output_type": "stream",
     "text": [
      "Final active site model contains 109 atoms.\n",
      "Structure saved as truncated_active_site_radius_5.pdb\n"
     ]
    }
   ],
   "source": [
    "truncated_active_site_mol, constrain_list = enzyASM.truncate_new(active_site_mol,scheme='CA_terminal', skip_resnumbers=[1205], remove_sidechains=remove_sidechain,radius=distance_cutoff)"
   ]
  },
  {
   "cell_type": "markdown",
   "id": "b22bb744",
   "metadata": {},
   "source": [
    "### Step 7. Protonate your model\n",
    "- The enzyASM code uses the obabel protonation function, which also allows you to define the pH, which is handy. However, it should be noted that obabel might change some PDB Residue Info, such as the chain and residue ID. This could cause issues if you are trying to specify that certain residue numbers should be removed during truncation, but you end up referring to the wrong residue numbers. You could either 1) use the enzyASM.obabel_protonate() function at the start, with the inital PDB so you know what residue numbers you are using to define the catalytic center, 2) protonate with your own preferred method, or (recommended) 3) use enzyASM.obabel_protonate() after truncation to complete your model. This last method is shown here. "
   ]
  },
  {
   "cell_type": "code",
   "execution_count": 11,
   "id": "6bd5c931",
   "metadata": {},
   "outputs": [
    {
     "name": "stdout",
     "output_type": "stream",
     "text": [
      "WARNING: There are 2 HIS residues, user should check protonation state and adjust pdb output file accordingly. Default is epsilon_N.\n",
      "Protonated structure saved as truncated_active_site_radius_5_protonated.pdb\n"
     ]
    }
   ],
   "source": [
    "enzyASM.obabel_protonate('truncated_active_site_radius_5.pdb')"
   ]
  },
  {
   "cell_type": "markdown",
   "id": "5ee5f364",
   "metadata": {},
   "source": [
    "### Step 8. Generate QM input file for geometry optimization"
   ]
  },
  {
   "cell_type": "code",
   "execution_count": 12,
   "id": "84c7de9e",
   "metadata": {},
   "outputs": [],
   "source": [
    "chrg = 0\n",
    "\n",
    "previous_res = None\n",
    "for atom in truncated_active_site_mol.GetAtoms():\n",
    "    current_res = (enzyASM.res_info(atom,'chain'),enzyASM.res_info(atom,'res_name'),enzyASM.res_info(atom,'res_number'))\n",
    "    if current_res == previous_res:\n",
    "        continue\n",
    "    previous_res = current_res\n",
    "    if enzyASM.res_info(atom,'res_name') in [\"GLU\",\"ASP\"]:\n",
    "        chrg -= 1\n",
    "    if enzyASM.res_info(atom,'res_name') in [\"ARG\",\"LYS\",\"HIP\"]:\n",
    "        chrg += 1"
   ]
  },
  {
   "cell_type": "code",
   "execution_count": 13,
   "id": "da586755",
   "metadata": {},
   "outputs": [],
   "source": [
    "freeze_atoms = ''\n",
    "for atom in constrain_list:\n",
    "    freeze_atoms += 'X {} F \\n'.format(atom)"
   ]
  },
  {
   "cell_type": "code",
   "execution_count": 14,
   "id": "3a428735",
   "metadata": {},
   "outputs": [
    {
     "name": "stdout",
     "output_type": "stream",
     "text": [
      "AQME v 1.4.1 2023/05/15 20:37:55 \n",
      "Citation: AQME v 1.4.1, Alegre-Requena, J. V.; Sowndarya, S.; Perez-Soto, R.; Alturaifi, T. M.; Paton, R. S., 2022. https://github.com/jvalegre/aqme\n",
      "\n",
      "\n",
      "o  truncated_active_site_radius_5 successfully processed at /Users/heidiklem/Desktop/Graduate School/Research-projects/enzyme-active-site-modeling/cheminformatics_tutorial/QCALC\n",
      "\n",
      "\n",
      "Time QPREP: 0.21 seconds\n",
      "\n",
      "\n"
     ]
    },
    {
     "data": {
      "text/plain": [
       "<aqme.qprep.qprep at 0x162bc32b0>"
      ]
     },
     "execution_count": 14,
     "metadata": {},
     "output_type": "execute_result"
    }
   ],
   "source": [
    "qprep(program=\"gaussian\",qm_input=\"wb97xd 6-31g* opt=modredundant freq=noraman\",qm_end=freeze_atoms,\n",
    "      files='truncated_active_site_radius_5.pdb',charge=chrg,nprocs=16,mem=\"32GB\",suffix='geom_opt')"
   ]
  }
 ],
 "metadata": {
  "kernelspec": {
   "display_name": "Python 3",
   "language": "python",
   "name": "python3"
  },
  "language_info": {
   "codemirror_mode": {
    "name": "ipython",
    "version": 3
   },
   "file_extension": ".py",
   "mimetype": "text/x-python",
   "name": "python",
   "nbconvert_exporter": "python",
   "pygments_lexer": "ipython3",
   "version": "3.9.4"
  }
 },
 "nbformat": 4,
 "nbformat_minor": 5
}
